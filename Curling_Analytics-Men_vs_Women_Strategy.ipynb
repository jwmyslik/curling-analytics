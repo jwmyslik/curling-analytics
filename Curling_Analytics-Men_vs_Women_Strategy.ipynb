{
 "cells": [
  {
   "cell_type": "markdown",
   "metadata": {},
   "source": [
    "In this analysis, I want to look into the stereotype that men prefer a more \"violent\" strategy that prefers more hits resulting in fewer rocks in play (also known as \"keeping it clean\"), while women prefer a more \"finesse\" strategy, with fewer hits resulting in more rocks in play (also known as \"the junk game\").\n",
    "\n",
    "In curling game strategy, outside of this gender stereotype there is another important reason why a team might prefer to \"play the junk game\".  When a team is less skilled, this typically means that they can't hit with accuracy matching a more experienced team, and may try to force the junk game (through taking careful advance of the 4 rock free guard zone rule) so they have a better chance of winning.  Although this would also be an interesting avenue of inquiry, I don't believe that it is necessary to disentangle for a robust first analysis for the following reasons:\n",
    "* This dataset is of world championship level games, so the skill of the teams playing should already be pretty high.\n",
    "* There definitely will be differences of skill between teams.  Our preliminary analysis showed teams from several countries playing many more games than other countries (nominally because they qualify for the world championship competitions more frequently.)  However, there should be a similar distribution of skill levels in both Men's and Women's games, so if there is a difference between the strategy preferences of Men and Women, it should appear in aggregate.\n",
    "\n",
    "Of course, a future analysis could explore varying skill levels in more detail (e.g. restricting to semi-final and final games guarantees the highest-skilled teams are being compared, or comparing the shot accuracy statistics for the teams in each game.)  However, since any difference between the Men and the Women preferred strategy should appear in aggregate, we will start with a simple comparison between the Men's games and the Women's games.\n",
    "\n",
    "This dataset gives us two possible directions for making this comparison:\n",
    "1. \"Shot Type\": The \"type\" column in the shots table gives the type of shot (Draws and Guards, for example being more finessed, and Take-outs and Clearing being examples of hits.)  If Men and Women prefer the same strategy, we'd expect the distribution of shot types to be the same for Men as for Women.\n",
    "2. \"Stones in Play\": The stone_positions table stores the positions of all the stones in play.  If Women truly do prefer a strategy involving less hitting (which removes stones from play), we would expect the maximum number of stones in play in a given end to be biased towards higher values for the Women than for the Men.\n",
    "\n",
    "I will approach this question from both of these directions, giving us two separate analyses to cross-check our conclusion.  In both cases a simple $\\chi^{2}$ test is sufficient to determine whether these distributions of categorical data are statistically significantly different.  The null hypothesis in both cases is that these distributions are the same, and I set a p-value threshold of 0.05 for rejecting the null hypothesis."
   ]
  },
  {
   "cell_type": "markdown",
   "metadata": {},
   "source": [
    "# Analysis 1: Shot Type Analysis \n",
    "\n",
    "Here I need the \"type\" column from the shots table, and the \"type\" column from the games table.  There are a couple different ways to analyze this data:\n",
    "1. As-is: Get the shot type distributions of all the different shot types, and compare them with a $\\chi^{2}$ test.  This would tell us whether Men and Women prefer different types of shots from each other, which is ultimately the question we're interested in, but does not specifically address whether Men like to hit more than Women.\n",
    "2. \"Hit\" vs. \"Not Hit\": Take the various shot types, recategorize them as \"Hit\" or \"Not Hit\", and compare the distribution of these two categories.  This directly addresses whether Men like to hit more than Women, but is a more coarse-grained approach.  Of the many shot types, some types of hits are more finessed (like hitting and having your stone travel to a specific position, a \"Hit and Roll\") while others are more violent (like throwing a very fast hit to remove both your stone and a guard stone from play, a \"Clearing\").  This information is lost with this coarser categorization.\n",
    "\n",
    "Given that there are advantages and disadvantages to both techniques, and this analysis is otherwise pretty simple, we might as well look at the data both ways.\n",
    "\n",
    "First, we need to pull the data from the database."
   ]
  },
  {
   "cell_type": "code",
   "execution_count": 2,
   "metadata": {},
   "outputs": [],
   "source": [
    "#Start by setting up the path to the database, and loading in the database helper functions.\n",
    "import os\n",
    "os.environ[\"CADBPATH\"]=os.getcwd() + \"/curling_data.db\"\n",
    "\n",
    "import database_functions as db"
   ]
  },
  {
   "cell_type": "code",
   "execution_count": 4,
   "metadata": {},
   "outputs": [
    {
     "data": {
      "text/html": [
       "<div>\n",
       "<style scoped>\n",
       "    .dataframe tbody tr th:only-of-type {\n",
       "        vertical-align: middle;\n",
       "    }\n",
       "\n",
       "    .dataframe tbody tr th {\n",
       "        vertical-align: top;\n",
       "    }\n",
       "\n",
       "    .dataframe thead th {\n",
       "        text-align: right;\n",
       "    }\n",
       "</style>\n",
       "<table border=\"1\" class=\"dataframe\">\n",
       "  <thead>\n",
       "    <tr style=\"text-align: right;\">\n",
       "      <th></th>\n",
       "      <th>game_type</th>\n",
       "      <th>shot_type</th>\n",
       "    </tr>\n",
       "  </thead>\n",
       "  <tbody>\n",
       "    <tr>\n",
       "      <th>0</th>\n",
       "      <td>Men</td>\n",
       "      <td>Front</td>\n",
       "    </tr>\n",
       "    <tr>\n",
       "      <th>1</th>\n",
       "      <td>Men</td>\n",
       "      <td>Draw</td>\n",
       "    </tr>\n",
       "    <tr>\n",
       "      <th>2</th>\n",
       "      <td>Men</td>\n",
       "      <td>Hit and Roll</td>\n",
       "    </tr>\n",
       "    <tr>\n",
       "      <th>3</th>\n",
       "      <td>Men</td>\n",
       "      <td>Draw</td>\n",
       "    </tr>\n",
       "    <tr>\n",
       "      <th>4</th>\n",
       "      <td>Men</td>\n",
       "      <td>Draw</td>\n",
       "    </tr>\n",
       "    <tr>\n",
       "      <th>5</th>\n",
       "      <td>Men</td>\n",
       "      <td>Draw</td>\n",
       "    </tr>\n",
       "    <tr>\n",
       "      <th>6</th>\n",
       "      <td>Men</td>\n",
       "      <td>Take-out</td>\n",
       "    </tr>\n",
       "    <tr>\n",
       "      <th>7</th>\n",
       "      <td>Men</td>\n",
       "      <td>Draw</td>\n",
       "    </tr>\n",
       "    <tr>\n",
       "      <th>8</th>\n",
       "      <td>Men</td>\n",
       "      <td>Take-out</td>\n",
       "    </tr>\n",
       "    <tr>\n",
       "      <th>9</th>\n",
       "      <td>Men</td>\n",
       "      <td>Hit and Roll</td>\n",
       "    </tr>\n",
       "    <tr>\n",
       "      <th>10</th>\n",
       "      <td>Men</td>\n",
       "      <td>Take-out</td>\n",
       "    </tr>\n",
       "    <tr>\n",
       "      <th>11</th>\n",
       "      <td>Men</td>\n",
       "      <td>Take-out</td>\n",
       "    </tr>\n",
       "    <tr>\n",
       "      <th>12</th>\n",
       "      <td>Men</td>\n",
       "      <td>Take-out</td>\n",
       "    </tr>\n",
       "    <tr>\n",
       "      <th>13</th>\n",
       "      <td>Men</td>\n",
       "      <td>Take-out</td>\n",
       "    </tr>\n",
       "    <tr>\n",
       "      <th>14</th>\n",
       "      <td>Men</td>\n",
       "      <td>Hit and Roll</td>\n",
       "    </tr>\n",
       "    <tr>\n",
       "      <th>15</th>\n",
       "      <td>Men</td>\n",
       "      <td>Raise</td>\n",
       "    </tr>\n",
       "    <tr>\n",
       "      <th>16</th>\n",
       "      <td>Men</td>\n",
       "      <td>Front</td>\n",
       "    </tr>\n",
       "    <tr>\n",
       "      <th>17</th>\n",
       "      <td>Men</td>\n",
       "      <td>Draw</td>\n",
       "    </tr>\n",
       "    <tr>\n",
       "      <th>18</th>\n",
       "      <td>Men</td>\n",
       "      <td>Draw</td>\n",
       "    </tr>\n",
       "    <tr>\n",
       "      <th>19</th>\n",
       "      <td>Men</td>\n",
       "      <td>Draw</td>\n",
       "    </tr>\n",
       "    <tr>\n",
       "      <th>20</th>\n",
       "      <td>Men</td>\n",
       "      <td>Draw</td>\n",
       "    </tr>\n",
       "    <tr>\n",
       "      <th>21</th>\n",
       "      <td>Men</td>\n",
       "      <td>Clearing</td>\n",
       "    </tr>\n",
       "    <tr>\n",
       "      <th>22</th>\n",
       "      <td>Men</td>\n",
       "      <td>Take-out</td>\n",
       "    </tr>\n",
       "    <tr>\n",
       "      <th>23</th>\n",
       "      <td>Men</td>\n",
       "      <td>Take-out</td>\n",
       "    </tr>\n",
       "    <tr>\n",
       "      <th>24</th>\n",
       "      <td>Men</td>\n",
       "      <td>Take-out</td>\n",
       "    </tr>\n",
       "    <tr>\n",
       "      <th>25</th>\n",
       "      <td>Men</td>\n",
       "      <td>Take-out</td>\n",
       "    </tr>\n",
       "    <tr>\n",
       "      <th>26</th>\n",
       "      <td>Men</td>\n",
       "      <td>Take-out</td>\n",
       "    </tr>\n",
       "    <tr>\n",
       "      <th>27</th>\n",
       "      <td>Men</td>\n",
       "      <td>Take-out</td>\n",
       "    </tr>\n",
       "    <tr>\n",
       "      <th>28</th>\n",
       "      <td>Men</td>\n",
       "      <td>Draw</td>\n",
       "    </tr>\n",
       "    <tr>\n",
       "      <th>29</th>\n",
       "      <td>Men</td>\n",
       "      <td>Take-out</td>\n",
       "    </tr>\n",
       "    <tr>\n",
       "      <th>...</th>\n",
       "      <td>...</td>\n",
       "      <td>...</td>\n",
       "    </tr>\n",
       "    <tr>\n",
       "      <th>182745</th>\n",
       "      <td>Women</td>\n",
       "      <td>Front</td>\n",
       "    </tr>\n",
       "    <tr>\n",
       "      <th>182746</th>\n",
       "      <td>Women</td>\n",
       "      <td>Wick / Soft Peeling</td>\n",
       "    </tr>\n",
       "    <tr>\n",
       "      <th>182747</th>\n",
       "      <td>Women</td>\n",
       "      <td>Draw</td>\n",
       "    </tr>\n",
       "    <tr>\n",
       "      <th>182748</th>\n",
       "      <td>Women</td>\n",
       "      <td>Clearing</td>\n",
       "    </tr>\n",
       "    <tr>\n",
       "      <th>182749</th>\n",
       "      <td>Women</td>\n",
       "      <td>Guard</td>\n",
       "    </tr>\n",
       "    <tr>\n",
       "      <th>182750</th>\n",
       "      <td>Women</td>\n",
       "      <td>Clearing</td>\n",
       "    </tr>\n",
       "    <tr>\n",
       "      <th>182751</th>\n",
       "      <td>Women</td>\n",
       "      <td>Guard</td>\n",
       "    </tr>\n",
       "    <tr>\n",
       "      <th>182752</th>\n",
       "      <td>Women</td>\n",
       "      <td>Clearing</td>\n",
       "    </tr>\n",
       "    <tr>\n",
       "      <th>182753</th>\n",
       "      <td>Women</td>\n",
       "      <td>Guard</td>\n",
       "    </tr>\n",
       "    <tr>\n",
       "      <th>182754</th>\n",
       "      <td>Women</td>\n",
       "      <td>Clearing</td>\n",
       "    </tr>\n",
       "    <tr>\n",
       "      <th>182755</th>\n",
       "      <td>Women</td>\n",
       "      <td>Guard</td>\n",
       "    </tr>\n",
       "    <tr>\n",
       "      <th>182756</th>\n",
       "      <td>Women</td>\n",
       "      <td>Double Take-out</td>\n",
       "    </tr>\n",
       "    <tr>\n",
       "      <th>182757</th>\n",
       "      <td>Women</td>\n",
       "      <td>Take-out</td>\n",
       "    </tr>\n",
       "    <tr>\n",
       "      <th>182758</th>\n",
       "      <td>Women</td>\n",
       "      <td>Draw</td>\n",
       "    </tr>\n",
       "    <tr>\n",
       "      <th>182759</th>\n",
       "      <td>Women</td>\n",
       "      <td>Draw</td>\n",
       "    </tr>\n",
       "    <tr>\n",
       "      <th>182760</th>\n",
       "      <td>Women</td>\n",
       "      <td>Front</td>\n",
       "    </tr>\n",
       "    <tr>\n",
       "      <th>182761</th>\n",
       "      <td>Women</td>\n",
       "      <td>Draw</td>\n",
       "    </tr>\n",
       "    <tr>\n",
       "      <th>182762</th>\n",
       "      <td>Women</td>\n",
       "      <td>Raise</td>\n",
       "    </tr>\n",
       "    <tr>\n",
       "      <th>182763</th>\n",
       "      <td>Women</td>\n",
       "      <td>Clearing</td>\n",
       "    </tr>\n",
       "    <tr>\n",
       "      <th>182764</th>\n",
       "      <td>Women</td>\n",
       "      <td>Hit and Roll</td>\n",
       "    </tr>\n",
       "    <tr>\n",
       "      <th>182765</th>\n",
       "      <td>Women</td>\n",
       "      <td>Take-out</td>\n",
       "    </tr>\n",
       "    <tr>\n",
       "      <th>182766</th>\n",
       "      <td>Women</td>\n",
       "      <td>Draw</td>\n",
       "    </tr>\n",
       "    <tr>\n",
       "      <th>182767</th>\n",
       "      <td>Women</td>\n",
       "      <td>Clearing</td>\n",
       "    </tr>\n",
       "    <tr>\n",
       "      <th>182768</th>\n",
       "      <td>Women</td>\n",
       "      <td>Draw</td>\n",
       "    </tr>\n",
       "    <tr>\n",
       "      <th>182769</th>\n",
       "      <td>Women</td>\n",
       "      <td>Clearing</td>\n",
       "    </tr>\n",
       "    <tr>\n",
       "      <th>182770</th>\n",
       "      <td>Women</td>\n",
       "      <td>Double Take-out</td>\n",
       "    </tr>\n",
       "    <tr>\n",
       "      <th>182771</th>\n",
       "      <td>Women</td>\n",
       "      <td>Double Take-out</td>\n",
       "    </tr>\n",
       "    <tr>\n",
       "      <th>182772</th>\n",
       "      <td>Women</td>\n",
       "      <td>Double Take-out</td>\n",
       "    </tr>\n",
       "    <tr>\n",
       "      <th>182773</th>\n",
       "      <td>Women</td>\n",
       "      <td>Draw</td>\n",
       "    </tr>\n",
       "    <tr>\n",
       "      <th>182774</th>\n",
       "      <td>Women</td>\n",
       "      <td>Draw</td>\n",
       "    </tr>\n",
       "  </tbody>\n",
       "</table>\n",
       "<p>182775 rows × 2 columns</p>\n",
       "</div>"
      ],
      "text/plain": [
       "       game_type            shot_type\n",
       "0            Men                Front\n",
       "1            Men                 Draw\n",
       "2            Men         Hit and Roll\n",
       "3            Men                 Draw\n",
       "4            Men                 Draw\n",
       "5            Men                 Draw\n",
       "6            Men             Take-out\n",
       "7            Men                 Draw\n",
       "8            Men             Take-out\n",
       "9            Men         Hit and Roll\n",
       "10           Men             Take-out\n",
       "11           Men             Take-out\n",
       "12           Men             Take-out\n",
       "13           Men             Take-out\n",
       "14           Men         Hit and Roll\n",
       "15           Men                Raise\n",
       "16           Men                Front\n",
       "17           Men                 Draw\n",
       "18           Men                 Draw\n",
       "19           Men                 Draw\n",
       "20           Men                 Draw\n",
       "21           Men             Clearing\n",
       "22           Men             Take-out\n",
       "23           Men             Take-out\n",
       "24           Men             Take-out\n",
       "25           Men             Take-out\n",
       "26           Men             Take-out\n",
       "27           Men             Take-out\n",
       "28           Men                 Draw\n",
       "29           Men             Take-out\n",
       "...          ...                  ...\n",
       "182745     Women                Front\n",
       "182746     Women  Wick / Soft Peeling\n",
       "182747     Women                 Draw\n",
       "182748     Women             Clearing\n",
       "182749     Women                Guard\n",
       "182750     Women             Clearing\n",
       "182751     Women                Guard\n",
       "182752     Women             Clearing\n",
       "182753     Women                Guard\n",
       "182754     Women             Clearing\n",
       "182755     Women                Guard\n",
       "182756     Women      Double Take-out\n",
       "182757     Women             Take-out\n",
       "182758     Women                 Draw\n",
       "182759     Women                 Draw\n",
       "182760     Women                Front\n",
       "182761     Women                 Draw\n",
       "182762     Women                Raise\n",
       "182763     Women             Clearing\n",
       "182764     Women         Hit and Roll\n",
       "182765     Women             Take-out\n",
       "182766     Women                 Draw\n",
       "182767     Women             Clearing\n",
       "182768     Women                 Draw\n",
       "182769     Women             Clearing\n",
       "182770     Women      Double Take-out\n",
       "182771     Women      Double Take-out\n",
       "182772     Women      Double Take-out\n",
       "182773     Women                 Draw\n",
       "182774     Women                 Draw\n",
       "\n",
       "[182775 rows x 2 columns]"
      ]
     },
     "execution_count": 4,
     "metadata": {},
     "output_type": "execute_result"
    }
   ],
   "source": [
    "q = \"\"\"\n",
    "SELECT games.type AS game_type, shots.type AS shot_type FROM games\n",
    "INNER JOIN ends ON ends.game_id = games.id\n",
    "INNER JOIN shots ON shots.end_id = ends.id\n",
    "\"\"\"\n",
    "type_df = db.run_query(q)\n",
    "type_df"
   ]
  },
  {
   "cell_type": "code",
   "execution_count": 11,
   "metadata": {},
   "outputs": [
    {
     "data": {
      "text/html": [
       "<div>\n",
       "<style scoped>\n",
       "    .dataframe tbody tr th:only-of-type {\n",
       "        vertical-align: middle;\n",
       "    }\n",
       "\n",
       "    .dataframe tbody tr th {\n",
       "        vertical-align: top;\n",
       "    }\n",
       "\n",
       "    .dataframe thead th {\n",
       "        text-align: right;\n",
       "    }\n",
       "</style>\n",
       "<table border=\"1\" class=\"dataframe\">\n",
       "  <thead>\n",
       "    <tr style=\"text-align: right;\">\n",
       "      <th></th>\n",
       "      <th>shot_type</th>\n",
       "    </tr>\n",
       "    <tr>\n",
       "      <th>game_type</th>\n",
       "      <th></th>\n",
       "    </tr>\n",
       "  </thead>\n",
       "  <tbody>\n",
       "    <tr>\n",
       "      <th>Men</th>\n",
       "      <td>95422</td>\n",
       "    </tr>\n",
       "    <tr>\n",
       "      <th>Women</th>\n",
       "      <td>87353</td>\n",
       "    </tr>\n",
       "  </tbody>\n",
       "</table>\n",
       "</div>"
      ],
      "text/plain": [
       "           shot_type\n",
       "game_type           \n",
       "Men            95422\n",
       "Women          87353"
      ]
     },
     "execution_count": 11,
     "metadata": {},
     "output_type": "execute_result"
    }
   ],
   "source": [
    "#First, let's take a look at how many Men's and Women's shots we're looking at.\n",
    "type_df.groupby(\"game_type\").count()"
   ]
  },
  {
   "cell_type": "markdown",
   "metadata": {},
   "source": [
    "So we have similar statistics for Men and Women.  There are about 10% more Men's shots than Women's shots, so when we make comparison plots we should deal in percentages, but the $\\chi^{2}$ test does not require any normalization to be performed.\n",
    "\n",
    "Let's take a look at each of the shot types in the dataset."
   ]
  },
  {
   "cell_type": "code",
   "execution_count": 16,
   "metadata": {},
   "outputs": [
    {
     "data": {
      "text/html": [
       "<div>\n",
       "<style scoped>\n",
       "    .dataframe tbody tr th:only-of-type {\n",
       "        vertical-align: middle;\n",
       "    }\n",
       "\n",
       "    .dataframe tbody tr th {\n",
       "        vertical-align: top;\n",
       "    }\n",
       "\n",
       "    .dataframe thead th {\n",
       "        text-align: right;\n",
       "    }\n",
       "</style>\n",
       "<table border=\"1\" class=\"dataframe\">\n",
       "  <thead>\n",
       "    <tr style=\"text-align: right;\">\n",
       "      <th></th>\n",
       "      <th>game_type</th>\n",
       "    </tr>\n",
       "    <tr>\n",
       "      <th>shot_type</th>\n",
       "      <th></th>\n",
       "    </tr>\n",
       "  </thead>\n",
       "  <tbody>\n",
       "    <tr>\n",
       "      <th>Clearing</th>\n",
       "      <td>16609</td>\n",
       "    </tr>\n",
       "    <tr>\n",
       "      <th>Double Take-out</th>\n",
       "      <td>10354</td>\n",
       "    </tr>\n",
       "    <tr>\n",
       "      <th>Draw</th>\n",
       "      <td>57199</td>\n",
       "    </tr>\n",
       "    <tr>\n",
       "      <th>Freeze</th>\n",
       "      <td>1434</td>\n",
       "    </tr>\n",
       "    <tr>\n",
       "      <th>Front</th>\n",
       "      <td>18719</td>\n",
       "    </tr>\n",
       "    <tr>\n",
       "      <th>Guard</th>\n",
       "      <td>10980</td>\n",
       "    </tr>\n",
       "    <tr>\n",
       "      <th>Hit and Roll</th>\n",
       "      <td>14656</td>\n",
       "    </tr>\n",
       "    <tr>\n",
       "      <th>None</th>\n",
       "      <td>4806</td>\n",
       "    </tr>\n",
       "    <tr>\n",
       "      <th>Promotion Take-out</th>\n",
       "      <td>5049</td>\n",
       "    </tr>\n",
       "    <tr>\n",
       "      <th>Raise</th>\n",
       "      <td>5531</td>\n",
       "    </tr>\n",
       "    <tr>\n",
       "      <th>Take-out</th>\n",
       "      <td>34380</td>\n",
       "    </tr>\n",
       "    <tr>\n",
       "      <th>Through</th>\n",
       "      <td>853</td>\n",
       "    </tr>\n",
       "    <tr>\n",
       "      <th>Wick / Soft Peeling</th>\n",
       "      <td>2124</td>\n",
       "    </tr>\n",
       "    <tr>\n",
       "      <th>no statistics</th>\n",
       "      <td>27</td>\n",
       "    </tr>\n",
       "    <tr>\n",
       "      <th>not played</th>\n",
       "      <td>12</td>\n",
       "    </tr>\n",
       "    <tr>\n",
       "      <th>through</th>\n",
       "      <td>42</td>\n",
       "    </tr>\n",
       "  </tbody>\n",
       "</table>\n",
       "</div>"
      ],
      "text/plain": [
       "                     game_type\n",
       "shot_type                     \n",
       "Clearing                 16609\n",
       "Double Take-out          10354\n",
       "Draw                     57199\n",
       "Freeze                    1434\n",
       "Front                    18719\n",
       "Guard                    10980\n",
       "Hit and Roll             14656\n",
       "None                      4806\n",
       "Promotion Take-out        5049\n",
       "Raise                     5531\n",
       "Take-out                 34380\n",
       "Through                    853\n",
       "Wick / Soft Peeling       2124\n",
       "no statistics               27\n",
       "not played                  12\n",
       "through                     42"
      ]
     },
     "execution_count": 16,
     "metadata": {},
     "output_type": "execute_result"
    }
   ],
   "source": [
    "type_df.groupby(\"shot_type\").count()"
   ]
  },
  {
   "cell_type": "markdown",
   "metadata": {},
   "source": [
    "Right away, we see some types that we want to remove from consideration:\n",
    "* None:  Instances of no data on the shot type.\n",
    "* No statistics: Instances where \"no statistics\" was picked up by the shot type.\n",
    "* not played: A small number of instances where a post-shot diagram was included, but the shot was not actually played (normally due to it not possibly making a difference in the outcome.)  This is such a small number of shots, and it isn't actually a shot type, so we might as well remove it.\n",
    "\n",
    "We should also change \"through\" to \"Through\".  Let's take care of these data cleaning tasks now."
   ]
  },
  {
   "cell_type": "code",
   "execution_count": 22,
   "metadata": {},
   "outputs": [
    {
     "data": {
      "text/html": [
       "<div>\n",
       "<style scoped>\n",
       "    .dataframe tbody tr th:only-of-type {\n",
       "        vertical-align: middle;\n",
       "    }\n",
       "\n",
       "    .dataframe tbody tr th {\n",
       "        vertical-align: top;\n",
       "    }\n",
       "\n",
       "    .dataframe thead th {\n",
       "        text-align: right;\n",
       "    }\n",
       "</style>\n",
       "<table border=\"1\" class=\"dataframe\">\n",
       "  <thead>\n",
       "    <tr style=\"text-align: right;\">\n",
       "      <th></th>\n",
       "      <th>game_type</th>\n",
       "    </tr>\n",
       "    <tr>\n",
       "      <th>shot_type</th>\n",
       "      <th></th>\n",
       "    </tr>\n",
       "  </thead>\n",
       "  <tbody>\n",
       "    <tr>\n",
       "      <th>Clearing</th>\n",
       "      <td>16609</td>\n",
       "    </tr>\n",
       "    <tr>\n",
       "      <th>Double Take-out</th>\n",
       "      <td>10354</td>\n",
       "    </tr>\n",
       "    <tr>\n",
       "      <th>Draw</th>\n",
       "      <td>57199</td>\n",
       "    </tr>\n",
       "    <tr>\n",
       "      <th>Freeze</th>\n",
       "      <td>1434</td>\n",
       "    </tr>\n",
       "    <tr>\n",
       "      <th>Front</th>\n",
       "      <td>18719</td>\n",
       "    </tr>\n",
       "    <tr>\n",
       "      <th>Guard</th>\n",
       "      <td>10980</td>\n",
       "    </tr>\n",
       "    <tr>\n",
       "      <th>Hit and Roll</th>\n",
       "      <td>14656</td>\n",
       "    </tr>\n",
       "    <tr>\n",
       "      <th>Promotion Take-out</th>\n",
       "      <td>5049</td>\n",
       "    </tr>\n",
       "    <tr>\n",
       "      <th>Raise</th>\n",
       "      <td>5531</td>\n",
       "    </tr>\n",
       "    <tr>\n",
       "      <th>Take-out</th>\n",
       "      <td>34380</td>\n",
       "    </tr>\n",
       "    <tr>\n",
       "      <th>Through</th>\n",
       "      <td>895</td>\n",
       "    </tr>\n",
       "    <tr>\n",
       "      <th>Wick / Soft Peeling</th>\n",
       "      <td>2124</td>\n",
       "    </tr>\n",
       "  </tbody>\n",
       "</table>\n",
       "</div>"
      ],
      "text/plain": [
       "                     game_type\n",
       "shot_type                     \n",
       "Clearing                 16609\n",
       "Double Take-out          10354\n",
       "Draw                     57199\n",
       "Freeze                    1434\n",
       "Front                    18719\n",
       "Guard                    10980\n",
       "Hit and Roll             14656\n",
       "Promotion Take-out        5049\n",
       "Raise                     5531\n",
       "Take-out                 34380\n",
       "Through                    895\n",
       "Wick / Soft Peeling       2124"
      ]
     },
     "execution_count": 22,
     "metadata": {},
     "output_type": "execute_result"
    }
   ],
   "source": [
    "type_df_clean = type_df[type_df[\"shot_type\"] != \"None\"]\n",
    "type_df_clean = type_df_clean[type_df_clean[\"shot_type\"] != \"no statistics\"]\n",
    "type_df_clean = type_df_clean[type_df_clean[\"shot_type\"] != \"not played\"]\n",
    "type_df_clean = type_df_clean.replace(\"through\", \"Through\")\n",
    "type_df_clean.groupby(\"shot_type\").count()"
   ]
  },
  {
   "cell_type": "code",
   "execution_count": 25,
   "metadata": {},
   "outputs": [
    {
     "data": {
      "text/html": [
       "<div>\n",
       "<style scoped>\n",
       "    .dataframe tbody tr th:only-of-type {\n",
       "        vertical-align: middle;\n",
       "    }\n",
       "\n",
       "    .dataframe tbody tr th {\n",
       "        vertical-align: top;\n",
       "    }\n",
       "\n",
       "    .dataframe thead th {\n",
       "        text-align: right;\n",
       "    }\n",
       "</style>\n",
       "<table border=\"1\" class=\"dataframe\">\n",
       "  <thead>\n",
       "    <tr style=\"text-align: right;\">\n",
       "      <th></th>\n",
       "      <th>shot_type</th>\n",
       "    </tr>\n",
       "    <tr>\n",
       "      <th>game_type</th>\n",
       "      <th></th>\n",
       "    </tr>\n",
       "  </thead>\n",
       "  <tbody>\n",
       "    <tr>\n",
       "      <th>Men</th>\n",
       "      <td>93112</td>\n",
       "    </tr>\n",
       "    <tr>\n",
       "      <th>Women</th>\n",
       "      <td>84818</td>\n",
       "    </tr>\n",
       "  </tbody>\n",
       "</table>\n",
       "</div>"
      ],
      "text/plain": [
       "           shot_type\n",
       "game_type           \n",
       "Men            93112\n",
       "Women          84818"
      ]
     },
     "execution_count": 25,
     "metadata": {},
     "output_type": "execute_result"
    }
   ],
   "source": [
    "#Before we proceed, check the Men vs. Women counts in the clean dataframe.\n",
    "type_df_clean.groupby(\"game_type\").count()"
   ]
  },
  {
   "cell_type": "markdown",
   "metadata": {},
   "source": [
    "Now, let's discuss each of the shot types.\n",
    "* Clearing: A hit, remove a guard (stone in front of the house) from play, along with the hitting rock.\n",
    "* Double Take-out: A hit, remove two stones from play.\n",
    "* Draw: Place a stone inside the house.\n",
    "* Freeze: Place a stone as close as possible to another stone, without moving it (ideally the freezing stone stops as soon as it touches the other stone).\n",
    "* Front: This seems to be a stone in front of the house, blocking the button (i.e. a special case of \"Guard\")\n",
    "* Guard: A stone in front of the house, blocking an area of strategic importance or protecting a stone from being hit.\n",
    "* Hit and Roll: A hit where the hitting stone travels to a specific location before stopping.\n",
    "* Promotion Take-out: A hit where a stone is hit and pushed back (\"promoted\") so that it hits another stone to remove it from play.\n",
    "* Raise: A stone is used to move a stone in play farther down the sheet of ice.  (e.g. A guard in front of the button could be hit to move it to the button.)  For the purposes of the \"Hit vs. Not Hit\" analysis, although technically a hit, this is more of a finesse shot, which I would classify as \"Not Hit\".  \n",
    "* Take-out: A hit, remove a stone from play.\n",
    "* Through: Throw the rock through the house and out of play.  Normally done when trying to limit the number of rocks in play (\"keeping it clean\"), or if there are no stones in play in the last rock of the end, and you don't want to give up last rock advantage for one point. \n",
    "* Wick / Soft Peeling: This is nominally two conceptually similar shots.  Soft Peeling is a lower power version of \"Clearing\", where a rock is used to move a guard rock out of the way, but in this case keeping it in play.  Possibly useful during the 4 rock free guard zone to make a guard placed by your opponent less useful.  A Wick involves bouncing your stone off of another stone in play, to change your stone's direction.  (e.g. if you want to put your stone behind another stone, but curling it directly there is not an open shot, and there's another rock you can bounce off of.)  The Wick is definitely a finesse shot, while Soft Peeling maybe strays closer to what we would classify as a hit.  For the \"Hit vs. Not Hit\" analysis, I will classify this category as \"Not Hit\".\n",
    "\n",
    "So, let's add an \"is_hit\" column to our dataframe based on this discussion."
   ]
  },
  {
   "cell_type": "code",
   "execution_count": 26,
   "metadata": {},
   "outputs": [
    {
     "data": {
      "text/html": [
       "<div>\n",
       "<style scoped>\n",
       "    .dataframe tbody tr th:only-of-type {\n",
       "        vertical-align: middle;\n",
       "    }\n",
       "\n",
       "    .dataframe tbody tr th {\n",
       "        vertical-align: top;\n",
       "    }\n",
       "\n",
       "    .dataframe thead th {\n",
       "        text-align: right;\n",
       "    }\n",
       "</style>\n",
       "<table border=\"1\" class=\"dataframe\">\n",
       "  <thead>\n",
       "    <tr style=\"text-align: right;\">\n",
       "      <th></th>\n",
       "      <th>game_type</th>\n",
       "      <th>shot_type</th>\n",
       "      <th>is_hit</th>\n",
       "    </tr>\n",
       "  </thead>\n",
       "  <tbody>\n",
       "    <tr>\n",
       "      <th>0</th>\n",
       "      <td>Men</td>\n",
       "      <td>Front</td>\n",
       "      <td>False</td>\n",
       "    </tr>\n",
       "    <tr>\n",
       "      <th>1</th>\n",
       "      <td>Men</td>\n",
       "      <td>Draw</td>\n",
       "      <td>False</td>\n",
       "    </tr>\n",
       "    <tr>\n",
       "      <th>2</th>\n",
       "      <td>Men</td>\n",
       "      <td>Hit and Roll</td>\n",
       "      <td>True</td>\n",
       "    </tr>\n",
       "    <tr>\n",
       "      <th>3</th>\n",
       "      <td>Men</td>\n",
       "      <td>Draw</td>\n",
       "      <td>False</td>\n",
       "    </tr>\n",
       "    <tr>\n",
       "      <th>4</th>\n",
       "      <td>Men</td>\n",
       "      <td>Draw</td>\n",
       "      <td>False</td>\n",
       "    </tr>\n",
       "    <tr>\n",
       "      <th>5</th>\n",
       "      <td>Men</td>\n",
       "      <td>Draw</td>\n",
       "      <td>False</td>\n",
       "    </tr>\n",
       "    <tr>\n",
       "      <th>6</th>\n",
       "      <td>Men</td>\n",
       "      <td>Take-out</td>\n",
       "      <td>True</td>\n",
       "    </tr>\n",
       "    <tr>\n",
       "      <th>7</th>\n",
       "      <td>Men</td>\n",
       "      <td>Draw</td>\n",
       "      <td>False</td>\n",
       "    </tr>\n",
       "    <tr>\n",
       "      <th>8</th>\n",
       "      <td>Men</td>\n",
       "      <td>Take-out</td>\n",
       "      <td>True</td>\n",
       "    </tr>\n",
       "    <tr>\n",
       "      <th>9</th>\n",
       "      <td>Men</td>\n",
       "      <td>Hit and Roll</td>\n",
       "      <td>True</td>\n",
       "    </tr>\n",
       "    <tr>\n",
       "      <th>10</th>\n",
       "      <td>Men</td>\n",
       "      <td>Take-out</td>\n",
       "      <td>True</td>\n",
       "    </tr>\n",
       "    <tr>\n",
       "      <th>11</th>\n",
       "      <td>Men</td>\n",
       "      <td>Take-out</td>\n",
       "      <td>True</td>\n",
       "    </tr>\n",
       "    <tr>\n",
       "      <th>12</th>\n",
       "      <td>Men</td>\n",
       "      <td>Take-out</td>\n",
       "      <td>True</td>\n",
       "    </tr>\n",
       "    <tr>\n",
       "      <th>13</th>\n",
       "      <td>Men</td>\n",
       "      <td>Take-out</td>\n",
       "      <td>True</td>\n",
       "    </tr>\n",
       "    <tr>\n",
       "      <th>14</th>\n",
       "      <td>Men</td>\n",
       "      <td>Hit and Roll</td>\n",
       "      <td>True</td>\n",
       "    </tr>\n",
       "    <tr>\n",
       "      <th>15</th>\n",
       "      <td>Men</td>\n",
       "      <td>Raise</td>\n",
       "      <td>False</td>\n",
       "    </tr>\n",
       "    <tr>\n",
       "      <th>16</th>\n",
       "      <td>Men</td>\n",
       "      <td>Front</td>\n",
       "      <td>False</td>\n",
       "    </tr>\n",
       "    <tr>\n",
       "      <th>17</th>\n",
       "      <td>Men</td>\n",
       "      <td>Draw</td>\n",
       "      <td>False</td>\n",
       "    </tr>\n",
       "    <tr>\n",
       "      <th>18</th>\n",
       "      <td>Men</td>\n",
       "      <td>Draw</td>\n",
       "      <td>False</td>\n",
       "    </tr>\n",
       "    <tr>\n",
       "      <th>19</th>\n",
       "      <td>Men</td>\n",
       "      <td>Draw</td>\n",
       "      <td>False</td>\n",
       "    </tr>\n",
       "    <tr>\n",
       "      <th>20</th>\n",
       "      <td>Men</td>\n",
       "      <td>Draw</td>\n",
       "      <td>False</td>\n",
       "    </tr>\n",
       "    <tr>\n",
       "      <th>21</th>\n",
       "      <td>Men</td>\n",
       "      <td>Clearing</td>\n",
       "      <td>True</td>\n",
       "    </tr>\n",
       "    <tr>\n",
       "      <th>22</th>\n",
       "      <td>Men</td>\n",
       "      <td>Take-out</td>\n",
       "      <td>True</td>\n",
       "    </tr>\n",
       "    <tr>\n",
       "      <th>23</th>\n",
       "      <td>Men</td>\n",
       "      <td>Take-out</td>\n",
       "      <td>True</td>\n",
       "    </tr>\n",
       "    <tr>\n",
       "      <th>24</th>\n",
       "      <td>Men</td>\n",
       "      <td>Take-out</td>\n",
       "      <td>True</td>\n",
       "    </tr>\n",
       "    <tr>\n",
       "      <th>25</th>\n",
       "      <td>Men</td>\n",
       "      <td>Take-out</td>\n",
       "      <td>True</td>\n",
       "    </tr>\n",
       "    <tr>\n",
       "      <th>26</th>\n",
       "      <td>Men</td>\n",
       "      <td>Take-out</td>\n",
       "      <td>True</td>\n",
       "    </tr>\n",
       "    <tr>\n",
       "      <th>27</th>\n",
       "      <td>Men</td>\n",
       "      <td>Take-out</td>\n",
       "      <td>True</td>\n",
       "    </tr>\n",
       "    <tr>\n",
       "      <th>28</th>\n",
       "      <td>Men</td>\n",
       "      <td>Draw</td>\n",
       "      <td>False</td>\n",
       "    </tr>\n",
       "    <tr>\n",
       "      <th>29</th>\n",
       "      <td>Men</td>\n",
       "      <td>Take-out</td>\n",
       "      <td>True</td>\n",
       "    </tr>\n",
       "    <tr>\n",
       "      <th>...</th>\n",
       "      <td>...</td>\n",
       "      <td>...</td>\n",
       "      <td>...</td>\n",
       "    </tr>\n",
       "    <tr>\n",
       "      <th>182745</th>\n",
       "      <td>Women</td>\n",
       "      <td>Front</td>\n",
       "      <td>False</td>\n",
       "    </tr>\n",
       "    <tr>\n",
       "      <th>182746</th>\n",
       "      <td>Women</td>\n",
       "      <td>Wick / Soft Peeling</td>\n",
       "      <td>False</td>\n",
       "    </tr>\n",
       "    <tr>\n",
       "      <th>182747</th>\n",
       "      <td>Women</td>\n",
       "      <td>Draw</td>\n",
       "      <td>False</td>\n",
       "    </tr>\n",
       "    <tr>\n",
       "      <th>182748</th>\n",
       "      <td>Women</td>\n",
       "      <td>Clearing</td>\n",
       "      <td>True</td>\n",
       "    </tr>\n",
       "    <tr>\n",
       "      <th>182749</th>\n",
       "      <td>Women</td>\n",
       "      <td>Guard</td>\n",
       "      <td>False</td>\n",
       "    </tr>\n",
       "    <tr>\n",
       "      <th>182750</th>\n",
       "      <td>Women</td>\n",
       "      <td>Clearing</td>\n",
       "      <td>True</td>\n",
       "    </tr>\n",
       "    <tr>\n",
       "      <th>182751</th>\n",
       "      <td>Women</td>\n",
       "      <td>Guard</td>\n",
       "      <td>False</td>\n",
       "    </tr>\n",
       "    <tr>\n",
       "      <th>182752</th>\n",
       "      <td>Women</td>\n",
       "      <td>Clearing</td>\n",
       "      <td>True</td>\n",
       "    </tr>\n",
       "    <tr>\n",
       "      <th>182753</th>\n",
       "      <td>Women</td>\n",
       "      <td>Guard</td>\n",
       "      <td>False</td>\n",
       "    </tr>\n",
       "    <tr>\n",
       "      <th>182754</th>\n",
       "      <td>Women</td>\n",
       "      <td>Clearing</td>\n",
       "      <td>True</td>\n",
       "    </tr>\n",
       "    <tr>\n",
       "      <th>182755</th>\n",
       "      <td>Women</td>\n",
       "      <td>Guard</td>\n",
       "      <td>False</td>\n",
       "    </tr>\n",
       "    <tr>\n",
       "      <th>182756</th>\n",
       "      <td>Women</td>\n",
       "      <td>Double Take-out</td>\n",
       "      <td>True</td>\n",
       "    </tr>\n",
       "    <tr>\n",
       "      <th>182757</th>\n",
       "      <td>Women</td>\n",
       "      <td>Take-out</td>\n",
       "      <td>True</td>\n",
       "    </tr>\n",
       "    <tr>\n",
       "      <th>182758</th>\n",
       "      <td>Women</td>\n",
       "      <td>Draw</td>\n",
       "      <td>False</td>\n",
       "    </tr>\n",
       "    <tr>\n",
       "      <th>182759</th>\n",
       "      <td>Women</td>\n",
       "      <td>Draw</td>\n",
       "      <td>False</td>\n",
       "    </tr>\n",
       "    <tr>\n",
       "      <th>182760</th>\n",
       "      <td>Women</td>\n",
       "      <td>Front</td>\n",
       "      <td>False</td>\n",
       "    </tr>\n",
       "    <tr>\n",
       "      <th>182761</th>\n",
       "      <td>Women</td>\n",
       "      <td>Draw</td>\n",
       "      <td>False</td>\n",
       "    </tr>\n",
       "    <tr>\n",
       "      <th>182762</th>\n",
       "      <td>Women</td>\n",
       "      <td>Raise</td>\n",
       "      <td>False</td>\n",
       "    </tr>\n",
       "    <tr>\n",
       "      <th>182763</th>\n",
       "      <td>Women</td>\n",
       "      <td>Clearing</td>\n",
       "      <td>True</td>\n",
       "    </tr>\n",
       "    <tr>\n",
       "      <th>182764</th>\n",
       "      <td>Women</td>\n",
       "      <td>Hit and Roll</td>\n",
       "      <td>True</td>\n",
       "    </tr>\n",
       "    <tr>\n",
       "      <th>182765</th>\n",
       "      <td>Women</td>\n",
       "      <td>Take-out</td>\n",
       "      <td>True</td>\n",
       "    </tr>\n",
       "    <tr>\n",
       "      <th>182766</th>\n",
       "      <td>Women</td>\n",
       "      <td>Draw</td>\n",
       "      <td>False</td>\n",
       "    </tr>\n",
       "    <tr>\n",
       "      <th>182767</th>\n",
       "      <td>Women</td>\n",
       "      <td>Clearing</td>\n",
       "      <td>True</td>\n",
       "    </tr>\n",
       "    <tr>\n",
       "      <th>182768</th>\n",
       "      <td>Women</td>\n",
       "      <td>Draw</td>\n",
       "      <td>False</td>\n",
       "    </tr>\n",
       "    <tr>\n",
       "      <th>182769</th>\n",
       "      <td>Women</td>\n",
       "      <td>Clearing</td>\n",
       "      <td>True</td>\n",
       "    </tr>\n",
       "    <tr>\n",
       "      <th>182770</th>\n",
       "      <td>Women</td>\n",
       "      <td>Double Take-out</td>\n",
       "      <td>True</td>\n",
       "    </tr>\n",
       "    <tr>\n",
       "      <th>182771</th>\n",
       "      <td>Women</td>\n",
       "      <td>Double Take-out</td>\n",
       "      <td>True</td>\n",
       "    </tr>\n",
       "    <tr>\n",
       "      <th>182772</th>\n",
       "      <td>Women</td>\n",
       "      <td>Double Take-out</td>\n",
       "      <td>True</td>\n",
       "    </tr>\n",
       "    <tr>\n",
       "      <th>182773</th>\n",
       "      <td>Women</td>\n",
       "      <td>Draw</td>\n",
       "      <td>False</td>\n",
       "    </tr>\n",
       "    <tr>\n",
       "      <th>182774</th>\n",
       "      <td>Women</td>\n",
       "      <td>Draw</td>\n",
       "      <td>False</td>\n",
       "    </tr>\n",
       "  </tbody>\n",
       "</table>\n",
       "<p>177930 rows × 3 columns</p>\n",
       "</div>"
      ],
      "text/plain": [
       "       game_type            shot_type  is_hit\n",
       "0            Men                Front   False\n",
       "1            Men                 Draw   False\n",
       "2            Men         Hit and Roll    True\n",
       "3            Men                 Draw   False\n",
       "4            Men                 Draw   False\n",
       "5            Men                 Draw   False\n",
       "6            Men             Take-out    True\n",
       "7            Men                 Draw   False\n",
       "8            Men             Take-out    True\n",
       "9            Men         Hit and Roll    True\n",
       "10           Men             Take-out    True\n",
       "11           Men             Take-out    True\n",
       "12           Men             Take-out    True\n",
       "13           Men             Take-out    True\n",
       "14           Men         Hit and Roll    True\n",
       "15           Men                Raise   False\n",
       "16           Men                Front   False\n",
       "17           Men                 Draw   False\n",
       "18           Men                 Draw   False\n",
       "19           Men                 Draw   False\n",
       "20           Men                 Draw   False\n",
       "21           Men             Clearing    True\n",
       "22           Men             Take-out    True\n",
       "23           Men             Take-out    True\n",
       "24           Men             Take-out    True\n",
       "25           Men             Take-out    True\n",
       "26           Men             Take-out    True\n",
       "27           Men             Take-out    True\n",
       "28           Men                 Draw   False\n",
       "29           Men             Take-out    True\n",
       "...          ...                  ...     ...\n",
       "182745     Women                Front   False\n",
       "182746     Women  Wick / Soft Peeling   False\n",
       "182747     Women                 Draw   False\n",
       "182748     Women             Clearing    True\n",
       "182749     Women                Guard   False\n",
       "182750     Women             Clearing    True\n",
       "182751     Women                Guard   False\n",
       "182752     Women             Clearing    True\n",
       "182753     Women                Guard   False\n",
       "182754     Women             Clearing    True\n",
       "182755     Women                Guard   False\n",
       "182756     Women      Double Take-out    True\n",
       "182757     Women             Take-out    True\n",
       "182758     Women                 Draw   False\n",
       "182759     Women                 Draw   False\n",
       "182760     Women                Front   False\n",
       "182761     Women                 Draw   False\n",
       "182762     Women                Raise   False\n",
       "182763     Women             Clearing    True\n",
       "182764     Women         Hit and Roll    True\n",
       "182765     Women             Take-out    True\n",
       "182766     Women                 Draw   False\n",
       "182767     Women             Clearing    True\n",
       "182768     Women                 Draw   False\n",
       "182769     Women             Clearing    True\n",
       "182770     Women      Double Take-out    True\n",
       "182771     Women      Double Take-out    True\n",
       "182772     Women      Double Take-out    True\n",
       "182773     Women                 Draw   False\n",
       "182774     Women                 Draw   False\n",
       "\n",
       "[177930 rows x 3 columns]"
      ]
     },
     "execution_count": 26,
     "metadata": {},
     "output_type": "execute_result"
    }
   ],
   "source": [
    "hit_types = [\"Clearing\", \"Double Take-out\", \"Hit and Roll\", \"Promotion Take-out\", \"Take-out\"]\n",
    "type_df_clean[\"is_hit\"] = type_df_clean[\"shot_type\"].isin(hit_types)\n",
    "type_df_clean"
   ]
  },
  {
   "cell_type": "markdown",
   "metadata": {},
   "source": [
    "## Shot Type Analysis: As-Is\n",
    "Let's start by taking a look at the shot_type data as a bar chart, broken down by Men and Women."
   ]
  },
  {
   "cell_type": "code",
   "execution_count": 39,
   "metadata": {},
   "outputs": [
    {
     "data": {
      "text/plain": [
       "shot_type\n",
       "Clearing                9.629264\n",
       "Double Take-out         6.269869\n",
       "Draw                   31.618911\n",
       "Freeze                  0.610018\n",
       "Front                  10.784861\n",
       "Guard                   6.235501\n",
       "Hit and Roll            8.329753\n",
       "Promotion Take-out      3.269181\n",
       "Raise                   3.422760\n",
       "Take-out               18.254360\n",
       "Through                 0.514434\n",
       "Wick / Soft Peeling     1.061088\n",
       "Name: game_type, dtype: float64"
      ]
     },
     "execution_count": 39,
     "metadata": {},
     "output_type": "execute_result"
    }
   ],
   "source": [
    "import matplotlib.pyplot as plt\n",
    "\n",
    "#Pull out the Men and Women into separate dataframes.\n",
    "men_types = type_df_clean[type_df_clean[\"game_type\"] == \"Men\"]\n",
    "women_types = type_df_clean[type_df_clean[\"game_type\"] == \"Women\"]\n",
    "\n",
    "#Get the total number of Men and Women shots, for normalization\n",
    "n_men = men_types.shape[0]\n",
    "n_women = women_types.shape[0]\n",
    "\n",
    "men_type_percent = 100*men_types.groupby(\"shot_type\")[\"game_type\"].count()/n_men\n",
    "men_type_percent"
   ]
  },
  {
   "cell_type": "code",
   "execution_count": 40,
   "metadata": {
    "scrolled": true
   },
   "outputs": [
    {
     "data": {
      "text/plain": [
       "shot_type\n",
       "Clearing                9.011059\n",
       "Double Take-out         5.324342\n",
       "Draw                   32.726544\n",
       "Freeze                  1.021010\n",
       "Front                  10.230140\n",
       "Guard                   6.100120\n",
       "Hit and Roll            8.135066\n",
       "Promotion Take-out      2.363885\n",
       "Raise                   2.763564\n",
       "Take-out               20.494471\n",
       "Through                 0.490462\n",
       "Wick / Soft Peeling     1.339338\n",
       "Name: game_type, dtype: float64"
      ]
     },
     "execution_count": 40,
     "metadata": {},
     "output_type": "execute_result"
    }
   ],
   "source": [
    "women_type_percent = 100*women_types.groupby(\"shot_type\")[\"game_type\"].count()/n_women\n",
    "women_type_percent"
   ]
  },
  {
   "cell_type": "code",
   "execution_count": 83,
   "metadata": {},
   "outputs": [
    {
     "data": {
      "text/plain": [
       "<matplotlib.legend.Legend at 0x7f113a476da0>"
      ]
     },
     "execution_count": 83,
     "metadata": {},
     "output_type": "execute_result"
    },
    {
     "data": {
      "image/png": "[encoded data removed]",
      "text/plain": [
       "<Figure size 1080x360 with 1 Axes>"
      ]
     },
     "metadata": {
      "needs_background": "light"
     },
     "output_type": "display_data"
    }
   ],
   "source": [
    "import numpy as np\n",
    "labels = men_type_percent.index.values\n",
    "n_labels = len(labels)\n",
    "men_pct = men_type_percent.values\n",
    "women_pct = women_type_percent.values\n",
    "\n",
    "#The label locations\n",
    "x = np.arange(n_labels)\n",
    "\n",
    "#The width of the bars.\n",
    "width = 0.35\n",
    "\n",
    "#Make the plot\n",
    "fig, ax = plt.subplots(figsize=(15,5))\n",
    "men_plt = ax.bar(x-width/2, men_pct, width, label='Men')\n",
    "women_plt = ax.bar(x + width/2, women_pct, width, label = 'Women')\n",
    "\n",
    "#Add in the labels titles, and legend.\n",
    "ax.set_ylabel(\"Percentage of shots\")\n",
    "ax.set_title(\"Percentage of each shot type by gender\")\n",
    "ax.set_xticks(x)\n",
    "ax.set_xticklabels(labels, rotation='vertical')\n",
    "ax.legend()"
   ]
  },
  {
   "cell_type": "markdown",
   "metadata": {},
   "source": [
    "Visually, the percentage of each type of shot is remarkably similar for Men and Women.  Draws and Take-outs are by far the most popular type of shot, and contrary to the stereotype, women call Take-outs more than Men, on average.\n",
    "\n",
    "This plot also shows a potential issue with the proposed \"Hit vs. Not Hit\" analysis: Although women have called more Take-outs, Men have called visibly more Clearing, Double Take-out, and Promotion Take-outs.  Combining these together into Hit/No Hit washes out this information.  It may nonetheless still be an interesting avenue of inquiry.\n",
    "\n",
    "Before we get to that, let's perform the $\\chi^{2}$ test on this shot type data."
   ]
  },
  {
   "cell_type": "code",
   "execution_count": 85,
   "metadata": {},
   "outputs": [
    {
     "data": {
      "text/plain": [
       "array([ 8966,  5838, 29441,   568, 10042,  5806,  7756,  3044,  3187,\n",
       "       16997,   479,   988])"
      ]
     },
     "execution_count": 85,
     "metadata": {},
     "output_type": "execute_result"
    }
   ],
   "source": [
    "men_type_counts = men_types.groupby(\"shot_type\")[\"game_type\"].count().values\n",
    "men_type_counts"
   ]
  },
  {
   "cell_type": "code",
   "execution_count": 87,
   "metadata": {},
   "outputs": [
    {
     "data": {
      "text/plain": [
       "array([ 7643,  4516, 27758,   866,  8677,  5174,  6900,  2005,  2344,\n",
       "       17383,   416,  1136])"
      ]
     },
     "execution_count": 87,
     "metadata": {},
     "output_type": "execute_result"
    }
   ],
   "source": [
    "women_type_counts = women_types.groupby(\"shot_type\")[\"game_type\"].count().values\n",
    "women_type_counts"
   ]
  },
  {
   "cell_type": "code",
   "execution_count": 88,
   "metadata": {},
   "outputs": [
    {
     "data": {
      "text/plain": [
       "array([[ 8966,  5838, 29441,   568, 10042,  5806,  7756,  3044,  3187,\n",
       "        16997,   479,   988],\n",
       "       [ 7643,  4516, 27758,   866,  8677,  5174,  6900,  2005,  2344,\n",
       "        17383,   416,  1136]])"
      ]
     },
     "execution_count": 88,
     "metadata": {},
     "output_type": "execute_result"
    }
   ],
   "source": [
    "#I will use chi2_contingency from scipy.stats to perform this computation.\n",
    "from scipy.stats import chi2_contingency\n",
    "\n",
    "#Make the contingency table out of this data.\n",
    "cont_table = np.array([men_type_counts, women_type_counts])\n",
    "cont_table"
   ]
  },
  {
   "cell_type": "code",
   "execution_count": 89,
   "metadata": {},
   "outputs": [
    {
     "data": {
      "text/plain": [
       "(547.4835720386225,\n",
       " 2.3539807626667085e-110,\n",
       " 11,\n",
       " array([[ 8691.60460855,  5418.31983364, 29932.63242848,   750.42212106,\n",
       "          9795.78220649,  5745.90996459,  7669.58619682,  2642.17663126,\n",
       "          2894.41056595, 17991.29185635,   468.35969201,  1111.50389479],\n",
       "        [ 7917.39539145,  4935.68016636, 27266.36757152,   683.57787894,\n",
       "          8923.21779351,  5234.09003541,  6986.41380318,  2406.82336874,\n",
       "          2636.58943405, 16388.70814365,   426.64030799,  1012.49610521]]))"
      ]
     },
     "execution_count": 89,
     "metadata": {},
     "output_type": "execute_result"
    }
   ],
   "source": [
    "chi2_contingency(cont_table)"
   ]
  },
  {
   "cell_type": "markdown",
   "metadata": {},
   "source": [
    "The p-value computed by the $\\chi^{2}$ test is $2\\times10^{-110}$, so effectively $p = 0$.  We therefore conclude that there is a statistically significant difference in the shots called in Men's and Women's games.  Although the differences in percentages shown in the plot don't look very large, they correspond to large differences in counts of each type, which are unlikely to be due to random fluctuations.\n",
    "\n",
    "That said, we need to put this in perspective.  Looking at the plot, overall the difference between Men and Women shot types called is rather small.  In a 10 end game, a team throws a total of 80 shots.  If it were a Men's team, we would expect:"
   ]
  },
  {
   "cell_type": "code",
   "execution_count": 93,
   "metadata": {},
   "outputs": [
    {
     "data": {
      "text/plain": [
       "shot_type\n",
       "Clearing                7.703411\n",
       "Double Take-out         5.015895\n",
       "Draw                   25.295128\n",
       "Freeze                  0.488014\n",
       "Front                   8.627889\n",
       "Guard                   4.988401\n",
       "Hit and Roll            6.663803\n",
       "Promotion Take-out      2.615345\n",
       "Raise                   2.738208\n",
       "Take-out               14.603488\n",
       "Through                 0.411547\n",
       "Wick / Soft Peeling     0.848870\n",
       "Name: game_type, dtype: float64"
      ]
     },
     "execution_count": 93,
     "metadata": {},
     "output_type": "execute_result"
    }
   ],
   "source": [
    "80*men_type_percent/100"
   ]
  },
  {
   "cell_type": "markdown",
   "metadata": {},
   "source": [
    "For women:"
   ]
  },
  {
   "cell_type": "code",
   "execution_count": 94,
   "metadata": {},
   "outputs": [
    {
     "data": {
      "text/plain": [
       "shot_type\n",
       "Clearing                7.208847\n",
       "Double Take-out         4.259473\n",
       "Draw                   26.181235\n",
       "Freeze                  0.816808\n",
       "Front                   8.184112\n",
       "Guard                   4.880096\n",
       "Hit and Roll            6.508053\n",
       "Promotion Take-out      1.891108\n",
       "Raise                   2.210851\n",
       "Take-out               16.395576\n",
       "Through                 0.392370\n",
       "Wick / Soft Peeling     1.071471\n",
       "Name: game_type, dtype: float64"
      ]
     },
     "execution_count": 94,
     "metadata": {},
     "output_type": "execute_result"
    }
   ],
   "source": [
    "80*women_type_percent/100"
   ]
  },
  {
   "cell_type": "markdown",
   "metadata": {},
   "source": [
    "This is the effectively the same number of each type of shot, whether it is men or women playing.  However, since we have such a large number of shots in our data sample, even though this difference is rather small, it is statistically significant.\n",
    "\n",
    "To understand this difference, let's put it in terms of the ratio of Women:Men percent of each shot type called."
   ]
  },
  {
   "cell_type": "code",
   "execution_count": 95,
   "metadata": {},
   "outputs": [
    {
     "data": {
      "text/plain": [
       "shot_type\n",
       "Clearing               0.935799\n",
       "Double Take-out        0.849195\n",
       "Draw                   1.035031\n",
       "Freeze                 1.673737\n",
       "Front                  0.948565\n",
       "Guard                  0.978289\n",
       "Hit and Roll           0.976627\n",
       "Promotion Take-out     0.723082\n",
       "Raise                  0.807408\n",
       "Take-out               1.122716\n",
       "Through                0.953401\n",
       "Wick / Soft Peeling    1.262232\n",
       "Name: game_type, dtype: float64"
      ]
     },
     "execution_count": 95,
     "metadata": {},
     "output_type": "execute_result"
    }
   ],
   "source": [
    "ratio_type_percent = women_type_percent/men_type_percent\n",
    "ratio_type_percent"
   ]
  },
  {
   "cell_type": "markdown",
   "metadata": {},
   "source": [
    "In this case, the only categories that really stand out are:\n",
    "* Freeze: Women are 67% more likely to call a Freeze (perhaps the most finessed shot) than Men.\n",
    "* Promotion Take-out: Women are 28% less likely to call a Promotion Take-out than Men (a tricky hit to pull off).\n",
    "* Wick / Soft Peeling: Women are 26% more likely to call a Wick / Soft Peeling than Men.\n",
    "\n",
    "It should be noted though that all of these are relatively uncommon shots to call (based on their frequency, you'd expect to see less than 1 of each of them per game per team.)\n",
    "\n",
    "So, as we concluded earlier, the strategies are statistically significantly different, but this doesn't translate to a difference you would notice in a given game.  To see this, we can perform a $\\chi^{2}$ test on the shots one would expect in a given game."
   ]
  },
  {
   "cell_type": "code",
   "execution_count": 99,
   "metadata": {},
   "outputs": [
    {
     "data": {
      "text/plain": [
       "array([[ 7.70341095,  5.01589484, 25.29512845,  0.48801443,  8.62788899,\n",
       "         4.98840107,  6.66380273,  2.61534496,  2.73820775, 14.60348827,\n",
       "         0.41154738,  0.84887018],\n",
       "       [ 7.20884718,  4.25947323, 26.18123512,  0.81680775,  8.18411186,\n",
       "         4.88009621,  6.50805254,  1.89110802,  2.21085147, 16.39557641,\n",
       "         0.39236954,  1.07147068]])"
      ]
     },
     "execution_count": 99,
     "metadata": {},
     "output_type": "execute_result"
    }
   ],
   "source": [
    "game_cont_table = np.array([(80*men_type_percent/100).values, (80*women_type_percent/100).values])\n",
    "game_cont_table"
   ]
  },
  {
   "cell_type": "code",
   "execution_count": 100,
   "metadata": {},
   "outputs": [
    {
     "data": {
      "text/plain": [
       "(0.49338728193594805,\n",
       " 0.9999987199503799,\n",
       " 11,\n",
       " array([[ 7.45612906,  4.63768403, 25.73818178,  0.65241109,  8.40600043,\n",
       "          4.93424864,  6.58592763,  2.25322649,  2.47452961, 15.49953234,\n",
       "          0.40195846,  0.96017043],\n",
       "        [ 7.45612906,  4.63768403, 25.73818178,  0.65241109,  8.40600043,\n",
       "          4.93424864,  6.58592763,  2.25322649,  2.47452961, 15.49953234,\n",
       "          0.40195846,  0.96017043]]))"
      ]
     },
     "execution_count": 100,
     "metadata": {},
     "output_type": "execute_result"
    }
   ],
   "source": [
    "chi2_contingency(game_cont_table)"
   ]
  },
  {
   "cell_type": "code",
   "execution_count": 197,
   "metadata": {},
   "outputs": [
    {
     "data": {
      "text/plain": [
       "array([[ 770.3410946 ,  501.58948363, 2529.51284475,   48.80144342,\n",
       "         862.78889939,  498.84010654,  666.38027322,  261.53449609,\n",
       "         273.82077498, 1460.34882722,   41.15473838,   84.88701779],\n",
       "       [ 720.88471787,  425.9473225 , 2618.12351152,   81.68077531,\n",
       "         818.4111863 ,  488.0096206 ,  650.8052536 ,  189.11080195,\n",
       "         221.08514702, 1639.55764107,   39.23695442,  107.14706784]])"
      ]
     },
     "execution_count": 197,
     "metadata": {},
     "output_type": "execute_result"
    }
   ],
   "source": [
    "#How about for an event of 100 games?\n",
    "event_cont_table = np.array([(8000*men_type_percent/100).values, (8000*women_type_percent/100).values])\n",
    "event_cont_table"
   ]
  },
  {
   "cell_type": "code",
   "execution_count": 198,
   "metadata": {},
   "outputs": [
    {
     "data": {
      "text/plain": [
       "(49.33872819359479,\n",
       " 8.227301010191273e-07,\n",
       " 11,\n",
       " array([[ 745.61290623,  463.76840307, 2573.81817813,   65.24110937,\n",
       "          840.60004285,  493.42486357,  658.59276341,  225.32264902,\n",
       "          247.452961  , 1549.95323414,   40.1958464 ,   96.01704281],\n",
       "        [ 745.61290623,  463.76840307, 2573.81817813,   65.24110937,\n",
       "          840.60004285,  493.42486357,  658.59276341,  225.32264902,\n",
       "          247.452961  , 1549.95323414,   40.1958464 ,   96.01704281]]))"
      ]
     },
     "execution_count": 198,
     "metadata": {},
     "output_type": "execute_result"
    }
   ],
   "source": [
    "chi2_contingency(event_cont_table)"
   ]
  },
  {
   "cell_type": "markdown",
   "metadata": {},
   "source": [
    "So on the level of a single game's worth of shots, $p = 1$.  So the difference between the shots called by Men and Women does not produce a statistically significant difference in the overall shot composition of a game.  In other words, your average curling game viewer should be unable to observe a difference between the frequency of the different types of shots called for Men and Women.\n",
    "\n",
    "However, on the scale of a 100 game tournament, $p = 0$, so this difference would be observable.\n",
    "\n",
    "### Conclusion\n",
    "There is a statistically significant difference between the types of shots called by Men and Women.  However, this difference is small enough that it would not produce a statistically significant difference observable on a game to game basis though.  It would on the scale of a 100 game tournament though."
   ]
  },
  {
   "cell_type": "markdown",
   "metadata": {},
   "source": [
    "## Shot Type Analysis: Hit vs. Not Hit\n",
    "The previous shot type analysis already casts significant doubt on the veracity of the \"Men like to hit more than Women\" stereotype.  Let's now use the \"is_hit\" column we generated to make the more coarse grained Hit vs. Not Hit comparison."
   ]
  },
  {
   "cell_type": "code",
   "execution_count": 108,
   "metadata": {},
   "outputs": [
    {
     "data": {
      "text/plain": [
       "is_hit\n",
       "False    50511\n",
       "True     42601\n",
       "Name: game_type, dtype: int64"
      ]
     },
     "execution_count": 108,
     "metadata": {},
     "output_type": "execute_result"
    }
   ],
   "source": [
    "men_is_hit = men_types.groupby(\"is_hit\")[\"game_type\"].count()\n",
    "men_is_hit"
   ]
  },
  {
   "cell_type": "code",
   "execution_count": 109,
   "metadata": {},
   "outputs": [
    {
     "data": {
      "text/plain": [
       "is_hit\n",
       "False    46371\n",
       "True     38447\n",
       "Name: game_type, dtype: int64"
      ]
     },
     "execution_count": 109,
     "metadata": {},
     "output_type": "execute_result"
    }
   ],
   "source": [
    "women_is_hit = women_types.groupby(\"is_hit\")[\"game_type\"].count()\n",
    "women_is_hit"
   ]
  },
  {
   "cell_type": "code",
   "execution_count": 121,
   "metadata": {},
   "outputs": [
    {
     "data": {
      "text/plain": [
       "<matplotlib.legend.Legend at 0x7f113855f630>"
      ]
     },
     "execution_count": 121,
     "metadata": {},
     "output_type": "execute_result"
    },
    {
     "data": {
      "image/png": "[encoded data removed]",
      "text/plain": [
       "<Figure size 1080x360 with 1 Axes>"
      ]
     },
     "metadata": {
      "needs_background": "light"
     },
     "output_type": "display_data"
    }
   ],
   "source": [
    "labels2 = [\"Not Hit\", \"Hit\"]\n",
    "n_labels = len(labels2)\n",
    "men_hit_pct = 100*(men_is_hit.values)/n_men\n",
    "women_hit_pct = 100*(women_is_hit.values)/n_women\n",
    "\n",
    "#The label locations\n",
    "x2 = np.arange(n_labels)\n",
    "\n",
    "#The width of the bars.\n",
    "width2 = 0.35\n",
    "\n",
    "#Make the plot\n",
    "fig2, ax2 = plt.subplots(figsize=(15,5))\n",
    "men_hit_plt = ax2.bar(x2-width2/2, men_hit_pct, width2, label='Men')\n",
    "women_hit_plt = ax2.bar(x2 + width2/2, women_hit_pct, width2, label = 'Women')\n",
    "\n",
    "#Add in the labels titles, and legend.\n",
    "ax2.set_ylabel(\"Percentage of shots\")\n",
    "ax2.set_title(\"Percentage of Hit/Not Hit by gender\")\n",
    "ax2.set_xticks(x2)\n",
    "ax2.set_xticklabels(labels2, rotation='vertical')\n",
    "ax2.legend()"
   ]
  },
  {
   "cell_type": "markdown",
   "metadata": {},
   "source": [
    "So, from this plot, with the categorization assumptions I made (including some technical \"hits\" as \"not hits\" due to them being considered more \"finesse\" shots), Men do have a SLIGHTLY larger percentage of their shots as hits than not hits.  What happens if we perform the $\\chi^{2}$ test here?"
   ]
  },
  {
   "cell_type": "code",
   "execution_count": 119,
   "metadata": {},
   "outputs": [
    {
     "data": {
      "text/plain": [
       "array([[50511, 42601],\n",
       "       [46371, 38447]])"
      ]
     },
     "execution_count": 119,
     "metadata": {},
     "output_type": "execute_result"
    }
   ],
   "source": [
    "hit_cont_table = np.array([men_is_hit.values, women_is_hit.values])\n",
    "hit_cont_table"
   ]
  },
  {
   "cell_type": "code",
   "execution_count": 120,
   "metadata": {},
   "outputs": [
    {
     "data": {
      "text/plain": [
       "(3.1942410718519225,\n",
       " 0.0738980626180239,\n",
       " 1,\n",
       " array([[50699.02087338, 42412.97912662],\n",
       "        [46182.97912662, 38635.02087338]]))"
      ]
     },
     "execution_count": 120,
     "metadata": {},
     "output_type": "execute_result"
    }
   ],
   "source": [
    "chi2_contingency(hit_cont_table)"
   ]
  },
  {
   "cell_type": "markdown",
   "metadata": {},
   "source": [
    "So in this case, \"Hit vs. Not Hit\", $p = 0.07$, i.e. just big enough that we do not reject the null hypothesis that Men and Women hit with the same frequency.\n",
    "\n",
    "If it's not a statistically significant difference over all games, it is definitely not a statistically significant difference on the level of 1 game.\n",
    "\n",
    "### Conclusion\n",
    "I do not find a statistically significant difference in the fraction of hits vs. not hits called by Men vs. Women."
   ]
  },
  {
   "cell_type": "markdown",
   "metadata": {},
   "source": [
    "# Analysis 2: Stones in Play\n",
    "Both of the shot type analyses have already challenged the stereotype that there is more hitting in Men's games than Women's games.  Before we draw any final conclusions, I would like to pursue an alternate direction to take to answer this question:  Looking at the number of stones in play.  If the stereotype holds, the maximum number of rocks in each end should be lower for Men than for Women, if Men really prefer to \"keep it clean\" more than Women do.\n",
    "\n",
    "To do this analysis, we need:\n",
    "* type from the games table.\n",
    "* The maximum number of stones in play in each end, from the stone_positions table.\n",
    "\n",
    "For latter, we need a more complex SQL query to:\n",
    "* Count the number of stone_positions for each shot.\n",
    "* Take the maximum of those numbers for each end."
   ]
  },
  {
   "cell_type": "code",
   "execution_count": 132,
   "metadata": {},
   "outputs": [
    {
     "data": {
      "text/html": [
       "<div>\n",
       "<style scoped>\n",
       "    .dataframe tbody tr th:only-of-type {\n",
       "        vertical-align: middle;\n",
       "    }\n",
       "\n",
       "    .dataframe tbody tr th {\n",
       "        vertical-align: top;\n",
       "    }\n",
       "\n",
       "    .dataframe thead th {\n",
       "        text-align: right;\n",
       "    }\n",
       "</style>\n",
       "<table border=\"1\" class=\"dataframe\">\n",
       "  <thead>\n",
       "    <tr style=\"text-align: right;\">\n",
       "      <th></th>\n",
       "      <th>type</th>\n",
       "      <th>max_stones</th>\n",
       "    </tr>\n",
       "  </thead>\n",
       "  <tbody>\n",
       "    <tr>\n",
       "      <th>0</th>\n",
       "      <td>Men</td>\n",
       "      <td>5</td>\n",
       "    </tr>\n",
       "    <tr>\n",
       "      <th>1</th>\n",
       "      <td>Men</td>\n",
       "      <td>5</td>\n",
       "    </tr>\n",
       "    <tr>\n",
       "      <th>2</th>\n",
       "      <td>Men</td>\n",
       "      <td>6</td>\n",
       "    </tr>\n",
       "    <tr>\n",
       "      <th>3</th>\n",
       "      <td>Men</td>\n",
       "      <td>7</td>\n",
       "    </tr>\n",
       "    <tr>\n",
       "      <th>4</th>\n",
       "      <td>Men</td>\n",
       "      <td>7</td>\n",
       "    </tr>\n",
       "    <tr>\n",
       "      <th>5</th>\n",
       "      <td>Men</td>\n",
       "      <td>8</td>\n",
       "    </tr>\n",
       "    <tr>\n",
       "      <th>6</th>\n",
       "      <td>Men</td>\n",
       "      <td>5</td>\n",
       "    </tr>\n",
       "    <tr>\n",
       "      <th>7</th>\n",
       "      <td>Men</td>\n",
       "      <td>6</td>\n",
       "    </tr>\n",
       "    <tr>\n",
       "      <th>8</th>\n",
       "      <td>Men</td>\n",
       "      <td>6</td>\n",
       "    </tr>\n",
       "    <tr>\n",
       "      <th>9</th>\n",
       "      <td>Men</td>\n",
       "      <td>6</td>\n",
       "    </tr>\n",
       "    <tr>\n",
       "      <th>10</th>\n",
       "      <td>Men</td>\n",
       "      <td>7</td>\n",
       "    </tr>\n",
       "    <tr>\n",
       "      <th>11</th>\n",
       "      <td>Men</td>\n",
       "      <td>9</td>\n",
       "    </tr>\n",
       "    <tr>\n",
       "      <th>12</th>\n",
       "      <td>Men</td>\n",
       "      <td>10</td>\n",
       "    </tr>\n",
       "    <tr>\n",
       "      <th>13</th>\n",
       "      <td>Men</td>\n",
       "      <td>5</td>\n",
       "    </tr>\n",
       "    <tr>\n",
       "      <th>14</th>\n",
       "      <td>Men</td>\n",
       "      <td>6</td>\n",
       "    </tr>\n",
       "    <tr>\n",
       "      <th>15</th>\n",
       "      <td>Men</td>\n",
       "      <td>5</td>\n",
       "    </tr>\n",
       "    <tr>\n",
       "      <th>16</th>\n",
       "      <td>Men</td>\n",
       "      <td>5</td>\n",
       "    </tr>\n",
       "    <tr>\n",
       "      <th>17</th>\n",
       "      <td>Men</td>\n",
       "      <td>9</td>\n",
       "    </tr>\n",
       "    <tr>\n",
       "      <th>18</th>\n",
       "      <td>Men</td>\n",
       "      <td>10</td>\n",
       "    </tr>\n",
       "    <tr>\n",
       "      <th>19</th>\n",
       "      <td>Men</td>\n",
       "      <td>5</td>\n",
       "    </tr>\n",
       "    <tr>\n",
       "      <th>20</th>\n",
       "      <td>Men</td>\n",
       "      <td>5</td>\n",
       "    </tr>\n",
       "    <tr>\n",
       "      <th>21</th>\n",
       "      <td>Men</td>\n",
       "      <td>7</td>\n",
       "    </tr>\n",
       "    <tr>\n",
       "      <th>22</th>\n",
       "      <td>Men</td>\n",
       "      <td>4</td>\n",
       "    </tr>\n",
       "    <tr>\n",
       "      <th>23</th>\n",
       "      <td>Men</td>\n",
       "      <td>14</td>\n",
       "    </tr>\n",
       "    <tr>\n",
       "      <th>24</th>\n",
       "      <td>Men</td>\n",
       "      <td>8</td>\n",
       "    </tr>\n",
       "    <tr>\n",
       "      <th>25</th>\n",
       "      <td>Men</td>\n",
       "      <td>9</td>\n",
       "    </tr>\n",
       "    <tr>\n",
       "      <th>26</th>\n",
       "      <td>Men</td>\n",
       "      <td>6</td>\n",
       "    </tr>\n",
       "    <tr>\n",
       "      <th>27</th>\n",
       "      <td>Men</td>\n",
       "      <td>8</td>\n",
       "    </tr>\n",
       "    <tr>\n",
       "      <th>28</th>\n",
       "      <td>Men</td>\n",
       "      <td>7</td>\n",
       "    </tr>\n",
       "    <tr>\n",
       "      <th>29</th>\n",
       "      <td>Men</td>\n",
       "      <td>12</td>\n",
       "    </tr>\n",
       "    <tr>\n",
       "      <th>...</th>\n",
       "      <td>...</td>\n",
       "      <td>...</td>\n",
       "    </tr>\n",
       "    <tr>\n",
       "      <th>11441</th>\n",
       "      <td>Women</td>\n",
       "      <td>5</td>\n",
       "    </tr>\n",
       "    <tr>\n",
       "      <th>11442</th>\n",
       "      <td>Women</td>\n",
       "      <td>1</td>\n",
       "    </tr>\n",
       "    <tr>\n",
       "      <th>11443</th>\n",
       "      <td>Women</td>\n",
       "      <td>10</td>\n",
       "    </tr>\n",
       "    <tr>\n",
       "      <th>11444</th>\n",
       "      <td>Women</td>\n",
       "      <td>3</td>\n",
       "    </tr>\n",
       "    <tr>\n",
       "      <th>11445</th>\n",
       "      <td>Women</td>\n",
       "      <td>5</td>\n",
       "    </tr>\n",
       "    <tr>\n",
       "      <th>11446</th>\n",
       "      <td>Women</td>\n",
       "      <td>4</td>\n",
       "    </tr>\n",
       "    <tr>\n",
       "      <th>11447</th>\n",
       "      <td>Women</td>\n",
       "      <td>11</td>\n",
       "    </tr>\n",
       "    <tr>\n",
       "      <th>11448</th>\n",
       "      <td>Women</td>\n",
       "      <td>5</td>\n",
       "    </tr>\n",
       "    <tr>\n",
       "      <th>11449</th>\n",
       "      <td>Women</td>\n",
       "      <td>2</td>\n",
       "    </tr>\n",
       "    <tr>\n",
       "      <th>11450</th>\n",
       "      <td>Women</td>\n",
       "      <td>8</td>\n",
       "    </tr>\n",
       "    <tr>\n",
       "      <th>11451</th>\n",
       "      <td>Women</td>\n",
       "      <td>5</td>\n",
       "    </tr>\n",
       "    <tr>\n",
       "      <th>11452</th>\n",
       "      <td>Women</td>\n",
       "      <td>2</td>\n",
       "    </tr>\n",
       "    <tr>\n",
       "      <th>11453</th>\n",
       "      <td>Women</td>\n",
       "      <td>2</td>\n",
       "    </tr>\n",
       "    <tr>\n",
       "      <th>11454</th>\n",
       "      <td>Women</td>\n",
       "      <td>8</td>\n",
       "    </tr>\n",
       "    <tr>\n",
       "      <th>11455</th>\n",
       "      <td>Women</td>\n",
       "      <td>9</td>\n",
       "    </tr>\n",
       "    <tr>\n",
       "      <th>11456</th>\n",
       "      <td>Women</td>\n",
       "      <td>3</td>\n",
       "    </tr>\n",
       "    <tr>\n",
       "      <th>11457</th>\n",
       "      <td>Women</td>\n",
       "      <td>6</td>\n",
       "    </tr>\n",
       "    <tr>\n",
       "      <th>11458</th>\n",
       "      <td>Women</td>\n",
       "      <td>6</td>\n",
       "    </tr>\n",
       "    <tr>\n",
       "      <th>11459</th>\n",
       "      <td>Women</td>\n",
       "      <td>5</td>\n",
       "    </tr>\n",
       "    <tr>\n",
       "      <th>11460</th>\n",
       "      <td>Women</td>\n",
       "      <td>4</td>\n",
       "    </tr>\n",
       "    <tr>\n",
       "      <th>11461</th>\n",
       "      <td>Women</td>\n",
       "      <td>5</td>\n",
       "    </tr>\n",
       "    <tr>\n",
       "      <th>11462</th>\n",
       "      <td>Women</td>\n",
       "      <td>2</td>\n",
       "    </tr>\n",
       "    <tr>\n",
       "      <th>11463</th>\n",
       "      <td>Women</td>\n",
       "      <td>10</td>\n",
       "    </tr>\n",
       "    <tr>\n",
       "      <th>11464</th>\n",
       "      <td>Women</td>\n",
       "      <td>8</td>\n",
       "    </tr>\n",
       "    <tr>\n",
       "      <th>11465</th>\n",
       "      <td>Women</td>\n",
       "      <td>3</td>\n",
       "    </tr>\n",
       "    <tr>\n",
       "      <th>11466</th>\n",
       "      <td>Women</td>\n",
       "      <td>8</td>\n",
       "    </tr>\n",
       "    <tr>\n",
       "      <th>11467</th>\n",
       "      <td>Women</td>\n",
       "      <td>3</td>\n",
       "    </tr>\n",
       "    <tr>\n",
       "      <th>11468</th>\n",
       "      <td>Women</td>\n",
       "      <td>9</td>\n",
       "    </tr>\n",
       "    <tr>\n",
       "      <th>11469</th>\n",
       "      <td>Women</td>\n",
       "      <td>3</td>\n",
       "    </tr>\n",
       "    <tr>\n",
       "      <th>11470</th>\n",
       "      <td>Women</td>\n",
       "      <td>6</td>\n",
       "    </tr>\n",
       "  </tbody>\n",
       "</table>\n",
       "<p>11471 rows × 2 columns</p>\n",
       "</div>"
      ],
      "text/plain": [
       "        type  max_stones\n",
       "0        Men           5\n",
       "1        Men           5\n",
       "2        Men           6\n",
       "3        Men           7\n",
       "4        Men           7\n",
       "5        Men           8\n",
       "6        Men           5\n",
       "7        Men           6\n",
       "8        Men           6\n",
       "9        Men           6\n",
       "10       Men           7\n",
       "11       Men           9\n",
       "12       Men          10\n",
       "13       Men           5\n",
       "14       Men           6\n",
       "15       Men           5\n",
       "16       Men           5\n",
       "17       Men           9\n",
       "18       Men          10\n",
       "19       Men           5\n",
       "20       Men           5\n",
       "21       Men           7\n",
       "22       Men           4\n",
       "23       Men          14\n",
       "24       Men           8\n",
       "25       Men           9\n",
       "26       Men           6\n",
       "27       Men           8\n",
       "28       Men           7\n",
       "29       Men          12\n",
       "...      ...         ...\n",
       "11441  Women           5\n",
       "11442  Women           1\n",
       "11443  Women          10\n",
       "11444  Women           3\n",
       "11445  Women           5\n",
       "11446  Women           4\n",
       "11447  Women          11\n",
       "11448  Women           5\n",
       "11449  Women           2\n",
       "11450  Women           8\n",
       "11451  Women           5\n",
       "11452  Women           2\n",
       "11453  Women           2\n",
       "11454  Women           8\n",
       "11455  Women           9\n",
       "11456  Women           3\n",
       "11457  Women           6\n",
       "11458  Women           6\n",
       "11459  Women           5\n",
       "11460  Women           4\n",
       "11461  Women           5\n",
       "11462  Women           2\n",
       "11463  Women          10\n",
       "11464  Women           8\n",
       "11465  Women           3\n",
       "11466  Women           8\n",
       "11467  Women           3\n",
       "11468  Women           9\n",
       "11469  Women           3\n",
       "11470  Women           6\n",
       "\n",
       "[11471 rows x 2 columns]"
      ]
     },
     "execution_count": 132,
     "metadata": {},
     "output_type": "execute_result"
    }
   ],
   "source": [
    "q = \"\"\"\n",
    "WITH stone_counts AS\n",
    "(SELECT shots.end_id, stone_positions.shot_id, COUNT(stone_positions.x) AS stone_count FROM stone_positions \n",
    "INNER JOIN shots ON shots.id = stone_positions.shot_id\n",
    "GROUP BY shot_id)\n",
    "\n",
    "SELECT games.type, MAX(stone_counts.stone_count) AS max_stones FROM stone_counts\n",
    "INNER JOIN ends ON ends.id = stone_counts.end_id\n",
    "INNER JOIN games ON games.id = ends.game_id\n",
    "GROUP BY end_id\n",
    "\"\"\"\n",
    "stone_count_df = db.run_query(q)\n",
    "stone_count_df"
   ]
  },
  {
   "cell_type": "code",
   "execution_count": 138,
   "metadata": {},
   "outputs": [],
   "source": [
    "men_max_stone_counts = stone_count_df[stone_count_df[\"type\"] == \"Men\"]\n",
    "women_max_stone_counts = stone_count_df[stone_count_df[\"type\"] == \"Women\"]"
   ]
  },
  {
   "cell_type": "code",
   "execution_count": 139,
   "metadata": {},
   "outputs": [
    {
     "data": {
      "text/plain": [
       "5986"
      ]
     },
     "execution_count": 139,
     "metadata": {},
     "output_type": "execute_result"
    }
   ],
   "source": [
    "n_men_ends = men_max_stone_counts.shape[0]\n",
    "n_men_ends"
   ]
  },
  {
   "cell_type": "code",
   "execution_count": 141,
   "metadata": {},
   "outputs": [
    {
     "data": {
      "text/plain": [
       "5485"
      ]
     },
     "execution_count": 141,
     "metadata": {},
     "output_type": "execute_result"
    }
   ],
   "source": [
    "n_women_ends = women_max_stone_counts.shape[0]\n",
    "n_women_ends"
   ]
  },
  {
   "cell_type": "markdown",
   "metadata": {},
   "source": [
    "So, once again a similar number of men and women entries, but not equal.  We will use the \"density = true\" option in pyplot hist so that we are comparing two normalized probability densities for the distribution of maximum number of stones in play."
   ]
  },
  {
   "cell_type": "code",
   "execution_count": 169,
   "metadata": {},
   "outputs": [
    {
     "data": {
      "text/plain": [
       "<matplotlib.legend.Legend at 0x7f1137acff28>"
      ]
     },
     "execution_count": 169,
     "metadata": {},
     "output_type": "execute_result"
    },
    {
     "data": {
      "image/png": "[encoded data removed]",
      "text/plain": [
       "<Figure size 1152x720 with 1 Axes>"
      ]
     },
     "metadata": {
      "needs_background": "light"
     },
     "output_type": "display_data"
    }
   ],
   "source": [
    "from matplotlib.ticker import MaxNLocator\n",
    "\n",
    "fig3, ax3 = plt.subplots(figsize=(16,10))\n",
    "men_max_plt = plt.hist(men_max_stone_counts[\"max_stones\"], density=True, bins=np.arange(0,18),alpha=0.5, label=\"Men\")\n",
    "women_max_plt = plt.hist(women_max_stone_counts[\"max_stones\"], density=True, bins=np.arange(0,18),alpha=0.5, label=\"Women\")\n",
    "ax3.set_ylabel(\"Fraction of ends\")\n",
    "ax3.set_xlabel(\"Maximum number of stones in play\")\n",
    "ax3.set_title(\"Fraction of ends with each maximum number of stones in play\")\n",
    "ax3.xaxis.set_major_locator(MaxNLocator(integer=True))\n",
    "ax3.legend()"
   ]
  },
  {
   "cell_type": "markdown",
   "metadata": {},
   "source": [
    "This figure does show a broader distribution for the maximum number of stones in play in an end for the women, with the difference largely appearing at higher values.  As before, we will convert this information into a contingency table, and perform a $\\chi^{2}$ test to see whether these distributions are statistically significantly different.\n",
    "\n",
    "Also as before, we need to check to what extent this difference would manifest in a game, because although there is a visible difference, these distributions are remarkably similar."
   ]
  },
  {
   "cell_type": "code",
   "execution_count": 173,
   "metadata": {},
   "outputs": [
    {
     "data": {
      "image/png": "[encoded data removed]",
      "text/plain": [
       "<Figure size 432x288 with 1 Axes>"
      ]
     },
     "metadata": {
      "needs_background": "light"
     },
     "output_type": "display_data"
    }
   ],
   "source": [
    "#Use pyplot's hist to bin the data as in the histogram (Note that the histogram that shows up does not have each plot\n",
    "#normalized, so the plot will look different.)\n",
    "men_max_counts = plt.hist(men_max_stone_counts[\"max_stones\"], bins=np.arange(0,18),alpha=0.5, label=\"Men\")\n",
    "women_max_counts = plt.hist(women_max_stone_counts[\"max_stones\"], bins=np.arange(0,18),alpha=0.5, label=\"Women\")"
   ]
  },
  {
   "cell_type": "code",
   "execution_count": 175,
   "metadata": {},
   "outputs": [
    {
     "data": {
      "text/plain": [
       "array([   0.,   79.,  184.,  413.,  862., 1116.,  916.,  764.,  664.,\n",
       "        439.,  281.,  144.,   77.,   35.,    6.,    6.,    0.])"
      ]
     },
     "execution_count": 175,
     "metadata": {},
     "output_type": "execute_result"
    }
   ],
   "source": [
    "men_max_counts[0]"
   ]
  },
  {
   "cell_type": "code",
   "execution_count": 176,
   "metadata": {},
   "outputs": [
    {
     "data": {
      "text/plain": [
       "array([  0., 104., 188., 386., 684., 866., 806., 689., 626., 442., 313.,\n",
       "       189., 101.,  59.,  22.,   8.,   2.])"
      ]
     },
     "execution_count": 176,
     "metadata": {},
     "output_type": "execute_result"
    }
   ],
   "source": [
    "women_max_counts[0]"
   ]
  },
  {
   "cell_type": "code",
   "execution_count": 177,
   "metadata": {},
   "outputs": [
    {
     "data": {
      "text/plain": [
       "array([[   0.,   79.,  184.,  413.,  862., 1116.,  916.,  764.,  664.,\n",
       "         439.,  281.,  144.,   77.,   35.,    6.,    6.,    0.],\n",
       "       [   0.,  104.,  188.,  386.,  684.,  866.,  806.,  689.,  626.,\n",
       "         442.,  313.,  189.,  101.,   59.,   22.,    8.,    2.]])"
      ]
     },
     "execution_count": 177,
     "metadata": {},
     "output_type": "execute_result"
    }
   ],
   "source": [
    "#We can use the same contingency table chi squared function with this data as we used for the shot type data.\n",
    "max_cont = np.array([men_max_counts[0], women_max_counts[0]])\n",
    "max_cont"
   ]
  },
  {
   "cell_type": "code",
   "execution_count": 191,
   "metadata": {},
   "outputs": [
    {
     "data": {
      "text/plain": [
       "(75.28572410643835,\n",
       " 5.027359752859968e-10,\n",
       " 15,\n",
       " array([[9.54962950e+01, 1.94123616e+02, 4.16948304e+02, 8.06761050e+02,\n",
       "         1.03428228e+03, 8.98604481e+02, 7.58230146e+02, 6.73170604e+02,\n",
       "         4.59738994e+02, 3.09971581e+02, 1.73771947e+02, 9.28871066e+01,\n",
       "         4.90527417e+01, 1.46114550e+01, 7.30572749e+00, 1.04367536e+00],\n",
       "        [8.75037050e+01, 1.77876384e+02, 3.82051696e+02, 7.39238950e+02,\n",
       "         9.47717723e+02, 8.23395519e+02, 6.94769854e+02, 6.16829396e+02,\n",
       "         4.21261006e+02, 2.84028419e+02, 1.59228053e+02, 8.51128934e+01,\n",
       "         4.49472583e+01, 1.33885450e+01, 6.69427251e+00, 9.56324645e-01]]))"
      ]
     },
     "execution_count": 191,
     "metadata": {},
     "output_type": "execute_result"
    }
   ],
   "source": [
    "#We need to remove the first zero entry, because the chi squared function doesn't handle zero expected frequency\n",
    "#(produces an error).\n",
    "max_cont = np.array([np.delete(men_max_counts[0], 0), np.delete(women_max_counts[0], 0)])\n",
    "chi2_contingency(max_cont)"
   ]
  },
  {
   "cell_type": "markdown",
   "metadata": {},
   "source": [
    "So for the Men and Women distributions of maximum number of stones in play in each end, we also have a p-value of essentially zero, so the difference apparent in the histogram is statistically significant.\n",
    "\n",
    "However, as before, the real question is, are these distributions different enough that on the level of one game the game viewer would be able to notice the difference if they counted the maximum number of stones in play.  We can take the distributions shown in the plot, use it to produce what we would see for a 10 end game played by Men and Women, and check for statistical significance there."
   ]
  },
  {
   "cell_type": "code",
   "execution_count": 193,
   "metadata": {},
   "outputs": [
    {
     "data": {
      "text/plain": [
       "array([0.        , 0.13197461, 0.3073839 , 0.6899432 , 1.44002673,\n",
       "       1.86435015, 1.53023722, 1.27631139, 1.10925493, 0.73337788,\n",
       "       0.46942867, 0.24056131, 0.12863348, 0.05846976, 0.01002339,\n",
       "       0.01002339, 0.        ])"
      ]
     },
     "execution_count": 193,
     "metadata": {},
     "output_type": "execute_result"
    }
   ],
   "source": [
    "men_game_max = 10*men_max_plt[0]\n",
    "men_game_max"
   ]
  },
  {
   "cell_type": "code",
   "execution_count": 194,
   "metadata": {},
   "outputs": [
    {
     "data": {
      "text/plain": [
       "array([0.        , 0.18960802, 0.34275296, 0.70373747, 1.24703737,\n",
       "       1.57885141, 1.46946217, 1.25615314, 1.14129444, 0.80583409,\n",
       "       0.57064722, 0.34457612, 0.18413856, 0.10756609, 0.04010939,\n",
       "       0.01458523, 0.00364631])"
      ]
     },
     "execution_count": 194,
     "metadata": {},
     "output_type": "execute_result"
    }
   ],
   "source": [
    "women_game_max = 10*women_max_plt[0]\n",
    "women_game_max"
   ]
  },
  {
   "cell_type": "code",
   "execution_count": 195,
   "metadata": {},
   "outputs": [
    {
     "data": {
      "text/plain": [
       "(0.13043701956774909,\n",
       " 0.9999999999999137,\n",
       " 15,\n",
       " array([[0.16079131, 0.32506843, 0.69684033, 1.34353205, 1.72160078,\n",
       "         1.49984969, 1.26623227, 1.12527468, 0.76960599, 0.52003794,\n",
       "         0.29256871, 0.15638602, 0.08301793, 0.02506639, 0.01230431,\n",
       "         0.00182315],\n",
       "        [0.16079131, 0.32506843, 0.69684033, 1.34353205, 1.72160078,\n",
       "         1.49984969, 1.26623227, 1.12527468, 0.76960599, 0.52003794,\n",
       "         0.29256871, 0.15638602, 0.08301793, 0.02506639, 0.01230431,\n",
       "         0.00182315]]))"
      ]
     },
     "execution_count": 195,
     "metadata": {},
     "output_type": "execute_result"
    }
   ],
   "source": [
    "game_max_cont = np.array([np.delete(men_game_max, 0), np.delete(women_game_max, 0)])\n",
    "chi2_contingency(game_max_cont)"
   ]
  },
  {
   "cell_type": "markdown",
   "metadata": {},
   "source": [
    "As we'd expect for this low level of statistics, the p-value is essentially equal to 1.  So on the level of 1 game of 10 ends, we wouldn't expect to notice a difference between Men and Women in terms of maximum number of stones in play.  What if we looked at 100 games, being maybe more representative of a large event?"
   ]
  },
  {
   "cell_type": "code",
   "execution_count": 196,
   "metadata": {},
   "outputs": [
    {
     "data": {
      "text/plain": [
       "(13.04370195677491,\n",
       " 0.5989223044448491,\n",
       " 15,\n",
       " array([[ 16.07913146,  32.50684292,  69.68403333, 134.35320518,\n",
       "         172.16007816, 149.98496949, 126.62322691, 112.52746838,\n",
       "          76.96059874,  52.00379433,  29.25687132,  15.63860189,\n",
       "           8.30179261,   2.50663886,   1.23043102,   0.18231541],\n",
       "        [ 16.07913146,  32.50684292,  69.68403333, 134.35320518,\n",
       "         172.16007816, 149.98496949, 126.62322691, 112.52746838,\n",
       "          76.96059874,  52.00379433,  29.25687132,  15.63860189,\n",
       "           8.30179261,   2.50663886,   1.23043102,   0.18231541]]))"
      ]
     },
     "execution_count": 196,
     "metadata": {},
     "output_type": "execute_result"
    }
   ],
   "source": [
    "event_max_cont = np.array([np.delete(100*men_game_max, 0), np.delete(100*women_game_max, 0)])\n",
    "chi2_contingency(event_max_cont)"
   ]
  },
  {
   "cell_type": "markdown",
   "metadata": {},
   "source": [
    "Here, $p = 0.6$.  So even if looking at a whole tournament full of games, looking at the maximum number of stones in play in each end, one would not be able to distinguish between Men and Women.\n",
    "\n",
    "### Conclusion\n",
    "As before, there is a statistically significant difference between Men's and Women's games in terms of the maximum number of stones in play, but this difference is not large enough to manifest on the scale of a game or even a whole tournament."
   ]
  },
  {
   "cell_type": "markdown",
   "metadata": {},
   "source": [
    "# Overall Conclusions and Next Steps\n",
    "We've examined the stereotype that Men's curling teams prefer to hit more than Women's curling teams from two directions:\n",
    "1. Differences in the shots called between Men and Women (both by shot type, and whether it is considered a hit or not).\n",
    "2. Differences in the maximum number of stones in play in an end between Men and Women.\n",
    "\n",
    "In both cases, there are statistically significant differences between Men's and Women's games.  However, on the scale of a single game there would not be a statistically significant difference between a Men's game and a Women's game.  This is true even for a 100 game event in the case of the maximum number of stones in play, though at that number of games the difference in shots called would be statistically significant.\n",
    "\n",
    "So what does this mean for the stereotype that Men prefer to hit more than Women?  I once had a curling coach who claimed that he liked to watch Women's games more than Men's games, because they had more interesting shots due to less hitting and more rocks in play.  That led me to expect a very large difference, which the data does not appear to show.\n",
    "\n",
    "However, it's possible that these analyses were too simplistic to capture differences that were more obvious.  What if shot type is broken down by shot number?  (The first stone is almost always of type Front, and Guards and Draws are common in most strategies at the beginning of the end, during the 4 rock free guard zone.)  Do more/less aggressive strategies appear at different points in the end?  Also, Men or Women, a team trying to hang onto a lead is going to try and \"keep it clean\", limiting the number of rocks in play.  (So the score differential may be important to consider.)\n",
    "\n",
    "Also, as any coach will remind a rookie skip, \"Calling the shot is one thing, making it is another\".  Is there a difference in shot accuracy between men and women that depends on shot type?  How does this impact the number of stones in play?  There may also be value in considering a 2D distribution of number of stones in play vs. shot in the end, to get more fine-grained information than just the maximum.  Differences here might be readily apparent to a game viewer, but have been washed out in these simple analyses.  Stay tuned for a deeper more complex look into these questions!"
   ]
  }
 ],
 "metadata": {
  "kernelspec": {
   "display_name": "Python 3",
   "language": "python",
   "name": "python3"
  },
  "language_info": {
   "codemirror_mode": {
    "name": "ipython",
    "version": 3
   },
   "file_extension": ".py",
   "mimetype": "text/x-python",
   "name": "python",
   "nbconvert_exporter": "python",
   "pygments_lexer": "ipython3",
   "version": "3.6.7"
  }
 },
 "nbformat": 4,
 "nbformat_minor": 2
}
